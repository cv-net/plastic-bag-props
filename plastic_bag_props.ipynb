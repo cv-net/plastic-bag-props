{
 "metadata": {
  "language_info": {
   "codemirror_mode": {
    "name": "ipython",
    "version": 3
   },
   "file_extension": ".py",
   "mimetype": "text/x-python",
   "name": "python",
   "nbconvert_exporter": "python",
   "pygments_lexer": "ipython3",
   "version": "3.8.3"
  },
  "orig_nbformat": 2,
  "kernelspec": {
   "name": "python383jvsc74a57bd0b8f4beb0abc463e8d62bb80a1f7c4392736acc89c31c0e8b475c0d1ca81c99a3",
   "display_name": "Python 3.8.3 64-bit"
  },
  "metadata": {
   "interpreter": {
    "hash": "b8f4beb0abc463e8d62bb80a1f7c4392736acc89c31c0e8b475c0d1ca81c99a3"
   }
  }
 },
 "nbformat": 4,
 "nbformat_minor": 2,
 "cells": [
  {
   "cell_type": "code",
   "execution_count": 67,
   "metadata": {},
   "outputs": [],
   "source": [
    "import pandas as pd\n",
    "import numpy as np"
   ]
  },
  {
   "cell_type": "code",
   "execution_count": 68,
   "metadata": {},
   "outputs": [],
   "source": [
    "committee_list = pd.read_csv(\"committees.csv\")\n",
    "contrib_list = pd.read_csv(\"contributions.csv\")"
   ]
  },
  {
   "cell_type": "code",
   "execution_count": 69,
   "metadata": {},
   "outputs": [],
   "source": [
    "prop_67 = 'PROPOSITION 067- REFERENDUM TO OVERTURN BAN ON SINGLE-USE PLASTIC BAGS.'\n",
    "prop_65 = 'PROPOSITION 065- CARRY-OUT BAGS. CHARGES. INITIATIVE STATUTE.'"
   ]
  },
  {
   "cell_type": "code",
   "execution_count": 70,
   "metadata": {},
   "outputs": [],
   "source": [
    "committees_67 = committee_list[committee_list.prop_name == prop_67]\n",
    "committees_65 = committee_list[committee_list.prop_name == prop_65]"
   ]
  },
  {
   "cell_type": "code",
   "execution_count": 71,
   "metadata": {},
   "outputs": [],
   "source": [
    "merged_67 = pd.merge(committees_67, contrib_list, on=\"calaccess_committee_id\")\n",
    "merged_65 = pd.merge(committees_65, contrib_list, on=\"calaccess_committee_id\")\n",
    "merged_67.to_csv(r'.\\merged_67.csv', index = False)\n",
    "merged_65.to_csv(r'.\\merged_65a.csv', index = False)"
   ]
  },
  {
   "cell_type": "code",
   "execution_count": 73,
   "metadata": {},
   "outputs": [],
   "source": [
    "support_67 = merged_67[merged_67.committee_position == 'SUPPORT']\n",
    "oppose_67 = merged_67[merged_67.committee_position == 'OPPOSE']\n",
    "support_65 = merged_65[merged_65.committee_position == 'SUPPORT']\n",
    "oppose_65 = merged_65[merged_65.committee_position == 'OPPOSE']"
   ]
  },
  {
   "cell_type": "code",
   "execution_count": 75,
   "metadata": {},
   "outputs": [
    {
     "output_type": "execute_result",
     "data": {
      "text/plain": [
       "SMITH               29\n",
       "JOHNSON             27\n",
       "JONES               26\n",
       "NORRIS              22\n",
       "MILLER              21\n",
       "                    ..\n",
       "PARRISH              1\n",
       "PINKERTON SPIETH     1\n",
       "VOSS-JENSEN          1\n",
       "GOITEIN              1\n",
       "STEYER               1\n",
       "Name: contributor_lastname, Length: 1762, dtype: int64"
      ]
     },
     "metadata": {},
     "execution_count": 75
    }
   ],
   "source": [
    "support_67.contributor_lastname.value_counts()"
   ]
  },
  {
   "source": [
    "### Contributors in Support of Prop. 65 Listed as Contributors in Opposition to Prop. 67"
   ],
   "cell_type": "markdown",
   "metadata": {}
  },
  {
   "cell_type": "code",
   "execution_count": 76,
   "metadata": {},
   "outputs": [
    {
     "output_type": "execute_result",
     "data": {
      "text/plain": [
       "ADVANCE POLYBAG, INC.                                         9\n",
       "SUPERBAG CORP.                                                8\n",
       "HILEX POLY CO. LLC                                            5\n",
       "FORMOSA PLASTICS CORPORATION U.S.A.                           4\n",
       "RESTORE CALIFORNIA  - JIM FRAZIER BALLOT MEASURE COMMITTEE    1\n",
       "Name: contributor_lastname, dtype: int64"
      ]
     },
     "metadata": {},
     "execution_count": 76
    }
   ],
   "source": [
    "oppose_67.contributor_lastname.value_counts()"
   ]
  },
  {
   "cell_type": "code",
   "execution_count": 77,
   "metadata": {},
   "outputs": [
    {
     "output_type": "execute_result",
     "data": {
      "text/plain": [
       "ADVANCE POLYBAG, INC.                                         9\n",
       "SUPERBAG CORP.                                                8\n",
       "HILEX POLY CO. LLC                                            5\n",
       "FORMOSA PLASTICS CORPORATION U.S.A.                           4\n",
       "RESTORE CALIFORNIA  - JIM FRAZIER BALLOT MEASURE COMMITTEE    1\n",
       "Name: contributor_lastname, dtype: int64"
      ]
     },
     "metadata": {},
     "execution_count": 77
    }
   ],
   "source": [
    "support_65.contributor_lastname.value_counts()"
   ]
  },
  {
   "source": [
    "### $ Amount of Contributions Supporting Proposition 67"
   ],
   "cell_type": "markdown",
   "metadata": {}
  },
  {
   "source": [
    "\n",
    "amt_support_67 = support_67.amount.sum()\n",
    "'${:,.2f}'.format(amt_support_67)"
   ],
   "cell_type": "code",
   "metadata": {},
   "execution_count": 107,
   "outputs": [
    {
     "output_type": "execute_result",
     "data": {
      "text/plain": [
       "'$1,789,160.75'"
      ]
     },
     "metadata": {},
     "execution_count": 107
    }
   ]
  },
  {
   "source": [
    "### $ Amount of Contributions Supporting Contributions 65"
   ],
   "cell_type": "markdown",
   "metadata": {}
  },
  {
   "cell_type": "code",
   "execution_count": 108,
   "metadata": {},
   "outputs": [
    {
     "output_type": "execute_result",
     "data": {
      "text/plain": [
       "'$2,681,413.25'"
      ]
     },
     "metadata": {},
     "execution_count": 108
    }
   ],
   "source": [
    "amt_support_65 = support_65.amount.sum()\n",
    "'${:,.2f}'.format(amt_support_65)"
   ]
  },
  {
   "source": [
    "### Prop. 67 Contributions as a Ratio of Proposition 65 Contributions"
   ],
   "cell_type": "markdown",
   "metadata": {}
  },
  {
   "cell_type": "code",
   "execution_count": 91,
   "metadata": {},
   "outputs": [
    {
     "output_type": "execute_result",
     "data": {
      "text/plain": [
       "0.6672454348467175"
      ]
     },
     "metadata": {},
     "execution_count": 91
    }
   ],
   "source": [
    "amt_support_67 / amt_support_65"
   ]
  },
  {
   "source": [
    "### Avg. $ Amount of Supporting Contributions to Proposition 67"
   ],
   "cell_type": "markdown",
   "metadata": {}
  },
  {
   "cell_type": "code",
   "execution_count": 109,
   "metadata": {},
   "outputs": [
    {
     "output_type": "execute_result",
     "data": {
      "text/plain": [
       "'$286.17'"
      ]
     },
     "metadata": {},
     "execution_count": 109
    }
   ],
   "source": [
    "avg_67 = amt_support_67 / 6252\n",
    "'${:,.2f}'.format(avg_67)"
   ]
  },
  {
   "source": [
    "### Avg. $ Amount of Supporting Contributions to Proposition 67"
   ],
   "cell_type": "markdown",
   "metadata": {}
  },
  {
   "cell_type": "code",
   "execution_count": 110,
   "metadata": {},
   "outputs": [
    {
     "output_type": "execute_result",
     "data": {
      "text/plain": [
       "'$99,311.60'"
      ]
     },
     "metadata": {},
     "execution_count": 110
    }
   ],
   "source": [
    "avg_65 = amt_support_65 / 27\n",
    "'${:,.2f}'.format(avg_65)"
   ]
  },
  {
   "source": [
    "### Most Frequent Contributors in Support of Prop. 67"
   ],
   "cell_type": "markdown",
   "metadata": {}
  },
  {
   "cell_type": "code",
   "execution_count": 95,
   "metadata": {},
   "outputs": [
    {
     "output_type": "execute_result",
     "data": {
      "text/plain": [
       "SMITH               29\n",
       "JOHNSON             27\n",
       "JONES               26\n",
       "NORRIS              22\n",
       "MILLER              21\n",
       "                    ..\n",
       "PARRISH              1\n",
       "PINKERTON SPIETH     1\n",
       "VOSS-JENSEN          1\n",
       "GOITEIN              1\n",
       "STEYER               1\n",
       "Name: contributor_lastname, Length: 1762, dtype: int64"
      ]
     },
     "metadata": {},
     "execution_count": 95
    }
   ],
   "source": [
    "support_67.contributor_lastname.value_counts()"
   ]
  },
  {
   "cell_type": "code",
   "execution_count": 96,
   "metadata": {},
   "outputs": [],
   "source": [
    "df = support_67.to_csv('support_67_15-16.csv', index = True)"
   ]
  },
  {
   "cell_type": "code",
   "execution_count": 97,
   "metadata": {},
   "outputs": [
    {
     "output_type": "stream",
     "name": "stdout",
     "text": [
      "<class 'pandas.core.frame.DataFrame'>\nRangeIndex: 54 entries, 0 to 53\nData columns (total 12 columns):\n #   Column               Non-Null Count  Dtype  \n---  ------               --------------  -----  \n 0   ID NUMBER            43 non-null     float64\n 1   NAME OF CONTRIBUTOR  52 non-null     object \n 2   AMOUNT               52 non-null     object \n 3   CITY                 52 non-null     object \n 4   STATE                52 non-null     object \n 5   ZIP                  52 non-null     float64\n 6   Unnamed: 6           52 non-null     float64\n 7   Unnamed: 7           52 non-null     float64\n 8   Unnamed: 8           0 non-null      float64\n 9   Unnamed: 9           0 non-null      float64\n 10  Unnamed: 10          0 non-null      float64\n 11  Unnamed: 11          0 non-null      float64\ndtypes: float64(8), object(4)\nmemory usage: 5.2+ KB\n"
     ]
    }
   ],
   "source": [
    "full_65 = pd.read_csv(\"full_65_geo.csv\")\n",
    "full_65.info()\n"
   ]
  }
 ]
}