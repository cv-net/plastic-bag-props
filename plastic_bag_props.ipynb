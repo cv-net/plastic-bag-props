{
 "metadata": {
  "language_info": {
   "codemirror_mode": {
    "name": "ipython",
    "version": 3
   },
   "file_extension": ".py",
   "mimetype": "text/x-python",
   "name": "python",
   "nbconvert_exporter": "python",
   "pygments_lexer": "ipython3",
   "version": "3.8.3"
  },
  "orig_nbformat": 2,
  "kernelspec": {
   "name": "python3",
   "display_name": "Python 3.8.3 64-bit",
   "metadata": {
    "interpreter": {
     "hash": "b8f4beb0abc463e8d62bb80a1f7c4392736acc89c31c0e8b475c0d1ca81c99a3"
    }
   }
  }
 },
 "nbformat": 4,
 "nbformat_minor": 2,
 "cells": [
  {
   "cell_type": "code",
   "execution_count": 3,
   "metadata": {},
   "outputs": [],
   "source": [
    "import pandas as pd\n",
    "import numpy as np"
   ]
  },
  {
   "cell_type": "code",
   "execution_count": 5,
   "metadata": {},
   "outputs": [],
   "source": [
    "committee_list = pd.read_csv(\"committees.csv\")\n",
    "contrib_list = pd.read_csv(\"contributions.csv\")"
   ]
  },
  {
   "cell_type": "code",
   "execution_count": 7,
   "metadata": {},
   "outputs": [],
   "source": [
    "prop_67 = 'PROPOSITION 067- REFERENDUM TO OVERTURN BAN ON SINGLE-USE PLASTIC BAGS.'\n",
    "prop_65 = 'PROPOSITION 065- CARRY-OUT BAGS. CHARGES. INITIATIVE STATUTE.'"
   ]
  },
  {
   "cell_type": "code",
   "execution_count": 9,
   "metadata": {},
   "outputs": [],
   "source": [
    "committees_67 = committee_list[committee_list.prop_name == prop_67]\n",
    "committees_65 = committee_list[committee_list.prop_name == prop_65]"
   ]
  },
  {
   "cell_type": "code",
   "execution_count": 11,
   "metadata": {},
   "outputs": [],
   "source": [
    "merged_67 = pd.merge(committees_67, contrib_list, on=\"calaccess_committee_id\")\n",
    "merged_65 = pd.merge(committees_65, contrib_list, on=\"calaccess_committee_id\")\n",
    "merged_67.to_csv(r'.\\merged_67.csv', index = False)\n",
    "merged_65.to_csv(r'.\\merged_65.csv', index = False)"
   ]
  },
  {
   "cell_type": "code",
   "execution_count": 13,
   "metadata": {},
   "outputs": [
    {
     "output_type": "stream",
     "name": "stdout",
     "text": [
      "<class 'pandas.core.frame.DataFrame'>\nInt64Index: 6279 entries, 0 to 6278\nData columns (total 20 columns):\n #   Column                        Non-Null Count  Dtype  \n---  ------                        --------------  -----  \n 0   ocd_prop_id                   6279 non-null   object \n 1   calaccess_prop_id             6279 non-null   int64  \n 2   ccdc_prop_id                  6279 non-null   int64  \n 3   prop_name                     6279 non-null   object \n 4   ccdc_committee_id             6279 non-null   int64  \n 5   calaccess_committee_id        6279 non-null   int64  \n 6   committee_name_x              6279 non-null   object \n 7   committee_position            6279 non-null   object \n 8   committee_name_y              6279 non-null   object \n 9   calaccess_filing_id           6279 non-null   int64  \n 10  date_received                 6279 non-null   object \n 11  contributor_lastname          6279 non-null   object \n 12  contributor_firstname         6211 non-null   object \n 13  contributor_city              6279 non-null   object \n 14  contributor_state             6278 non-null   object \n 15  contributor_zip               6278 non-null   object \n 16  contributor_employer          6092 non-null   object \n 17  contributor_occupation        6092 non-null   object \n 18  contributor_is_self_employed  6279 non-null   bool   \n 19  amount                        6279 non-null   float64\ndtypes: bool(1), float64(1), int64(5), object(13)\nmemory usage: 987.2+ KB\n"
     ]
    }
   ],
   "source": [
    "merged_67.info()"
   ]
  },
  {
   "cell_type": "code",
   "execution_count": 15,
   "metadata": {},
   "outputs": [],
   "source": [
    "support_67 = merged_67[merged_67.committee_position == 'SUPPORT']\n",
    "oppose_67 = merged_67[merged_67.committee_position == 'OPPOSE']\n",
    "support_65 = merged_65[merged_65.committee_position == 'SUPPORT']\n",
    "oppose_65 = merged_65[merged_65.committee_position == 'OPPOSE']"
   ]
  },
  {
   "cell_type": "code",
   "execution_count": 17,
   "metadata": {},
   "outputs": [
    {
     "output_type": "execute_result",
     "data": {
      "text/plain": [
       "                                        ocd_prop_id  calaccess_prop_id  \\\n",
       "0  ocd-contest/cac74f20-f59f-4857-8750-5f832a3549c9            1381520   \n",
       "1  ocd-contest/cac74f20-f59f-4857-8750-5f832a3549c9            1381520   \n",
       "2  ocd-contest/cac74f20-f59f-4857-8750-5f832a3549c9            1381520   \n",
       "3  ocd-contest/cac74f20-f59f-4857-8750-5f832a3549c9            1381520   \n",
       "4  ocd-contest/cac74f20-f59f-4857-8750-5f832a3549c9            1381520   \n",
       "\n",
       "   ccdc_prop_id                                          prop_name  \\\n",
       "0            84  PROPOSITION 065- CARRY-OUT BAGS. CHARGES. INIT...   \n",
       "1            84  PROPOSITION 065- CARRY-OUT BAGS. CHARGES. INIT...   \n",
       "2            84  PROPOSITION 065- CARRY-OUT BAGS. CHARGES. INIT...   \n",
       "3            84  PROPOSITION 065- CARRY-OUT BAGS. CHARGES. INIT...   \n",
       "4            84  PROPOSITION 065- CARRY-OUT BAGS. CHARGES. INIT...   \n",
       "\n",
       "   ccdc_committee_id  calaccess_committee_id  \\\n",
       "0                467                 1372902   \n",
       "1                467                 1372902   \n",
       "2                467                 1372902   \n",
       "3                467                 1372902   \n",
       "4                467                 1372902   \n",
       "\n",
       "                                    committee_name_x committee_position  \\\n",
       "0  AMERICAN PROGRESSIVE BAG ALLIANCE, A PROJECT O...            SUPPORT   \n",
       "1  AMERICAN PROGRESSIVE BAG ALLIANCE, A PROJECT O...            SUPPORT   \n",
       "2  AMERICAN PROGRESSIVE BAG ALLIANCE, A PROJECT O...            SUPPORT   \n",
       "3  AMERICAN PROGRESSIVE BAG ALLIANCE, A PROJECT O...            SUPPORT   \n",
       "4  AMERICAN PROGRESSIVE BAG ALLIANCE, A PROJECT O...            SUPPORT   \n",
       "\n",
       "                                    committee_name_y  calaccess_filing_id  \\\n",
       "0  AMERICAN PROGRESSIVE BAG ALLIANCE, A PROJECT O...              1966084   \n",
       "1  AMERICAN PROGRESSIVE BAG ALLIANCE, A PROJECT O...              1966084   \n",
       "2  AMERICAN PROGRESSIVE BAG ALLIANCE, A PROJECT O...              1966084   \n",
       "3  AMERICAN PROGRESSIVE BAG ALLIANCE, A PROJECT O...              1982896   \n",
       "4  AMERICAN PROGRESSIVE BAG ALLIANCE, A PROJECT O...              2012817   \n",
       "\n",
       "  date_received                 contributor_lastname contributor_firstname  \\\n",
       "0    2015-03-11                ADVANCE POLYBAG, INC.                   NaN   \n",
       "1    2015-03-16                   HILEX POLY CO. LLC                   NaN   \n",
       "2    2015-03-17                       SUPERBAG CORP.                   NaN   \n",
       "3    2015-04-15  FORMOSA PLASTICS CORPORATION U.S.A.                   NaN   \n",
       "4    2015-10-30  FORMOSA PLASTICS CORPORATION U.S.A.                   NaN   \n",
       "\n",
       "  contributor_city contributor_state contributor_zip contributor_employer  \\\n",
       "0       SUGAR LAND                TX           77077                  NaN   \n",
       "1       HARTSVILLE                SC           29550                  NaN   \n",
       "2          HOUSTON                TX           77041                  NaN   \n",
       "3       LIVINGSTON                NJ            7039                  NaN   \n",
       "4       LIVINGSTON                NJ            7039                  NaN   \n",
       "\n",
       "  contributor_occupation  contributor_is_self_employed    amount  \n",
       "0                    NaN                         False   12000.0  \n",
       "1                    NaN                         False   42000.0  \n",
       "2                    NaN                         False   12000.0  \n",
       "3                    NaN                         False   14000.0  \n",
       "4                    NaN                         False  350000.0  "
      ],
      "text/html": "<div>\n<style scoped>\n    .dataframe tbody tr th:only-of-type {\n        vertical-align: middle;\n    }\n\n    .dataframe tbody tr th {\n        vertical-align: top;\n    }\n\n    .dataframe thead th {\n        text-align: right;\n    }\n</style>\n<table border=\"1\" class=\"dataframe\">\n  <thead>\n    <tr style=\"text-align: right;\">\n      <th></th>\n      <th>ocd_prop_id</th>\n      <th>calaccess_prop_id</th>\n      <th>ccdc_prop_id</th>\n      <th>prop_name</th>\n      <th>ccdc_committee_id</th>\n      <th>calaccess_committee_id</th>\n      <th>committee_name_x</th>\n      <th>committee_position</th>\n      <th>committee_name_y</th>\n      <th>calaccess_filing_id</th>\n      <th>date_received</th>\n      <th>contributor_lastname</th>\n      <th>contributor_firstname</th>\n      <th>contributor_city</th>\n      <th>contributor_state</th>\n      <th>contributor_zip</th>\n      <th>contributor_employer</th>\n      <th>contributor_occupation</th>\n      <th>contributor_is_self_employed</th>\n      <th>amount</th>\n    </tr>\n  </thead>\n  <tbody>\n    <tr>\n      <th>0</th>\n      <td>ocd-contest/cac74f20-f59f-4857-8750-5f832a3549c9</td>\n      <td>1381520</td>\n      <td>84</td>\n      <td>PROPOSITION 065- CARRY-OUT BAGS. CHARGES. INIT...</td>\n      <td>467</td>\n      <td>1372902</td>\n      <td>AMERICAN PROGRESSIVE BAG ALLIANCE, A PROJECT O...</td>\n      <td>SUPPORT</td>\n      <td>AMERICAN PROGRESSIVE BAG ALLIANCE, A PROJECT O...</td>\n      <td>1966084</td>\n      <td>2015-03-11</td>\n      <td>ADVANCE POLYBAG, INC.</td>\n      <td>NaN</td>\n      <td>SUGAR LAND</td>\n      <td>TX</td>\n      <td>77077</td>\n      <td>NaN</td>\n      <td>NaN</td>\n      <td>False</td>\n      <td>12000.0</td>\n    </tr>\n    <tr>\n      <th>1</th>\n      <td>ocd-contest/cac74f20-f59f-4857-8750-5f832a3549c9</td>\n      <td>1381520</td>\n      <td>84</td>\n      <td>PROPOSITION 065- CARRY-OUT BAGS. CHARGES. INIT...</td>\n      <td>467</td>\n      <td>1372902</td>\n      <td>AMERICAN PROGRESSIVE BAG ALLIANCE, A PROJECT O...</td>\n      <td>SUPPORT</td>\n      <td>AMERICAN PROGRESSIVE BAG ALLIANCE, A PROJECT O...</td>\n      <td>1966084</td>\n      <td>2015-03-16</td>\n      <td>HILEX POLY CO. LLC</td>\n      <td>NaN</td>\n      <td>HARTSVILLE</td>\n      <td>SC</td>\n      <td>29550</td>\n      <td>NaN</td>\n      <td>NaN</td>\n      <td>False</td>\n      <td>42000.0</td>\n    </tr>\n    <tr>\n      <th>2</th>\n      <td>ocd-contest/cac74f20-f59f-4857-8750-5f832a3549c9</td>\n      <td>1381520</td>\n      <td>84</td>\n      <td>PROPOSITION 065- CARRY-OUT BAGS. CHARGES. INIT...</td>\n      <td>467</td>\n      <td>1372902</td>\n      <td>AMERICAN PROGRESSIVE BAG ALLIANCE, A PROJECT O...</td>\n      <td>SUPPORT</td>\n      <td>AMERICAN PROGRESSIVE BAG ALLIANCE, A PROJECT O...</td>\n      <td>1966084</td>\n      <td>2015-03-17</td>\n      <td>SUPERBAG CORP.</td>\n      <td>NaN</td>\n      <td>HOUSTON</td>\n      <td>TX</td>\n      <td>77041</td>\n      <td>NaN</td>\n      <td>NaN</td>\n      <td>False</td>\n      <td>12000.0</td>\n    </tr>\n    <tr>\n      <th>3</th>\n      <td>ocd-contest/cac74f20-f59f-4857-8750-5f832a3549c9</td>\n      <td>1381520</td>\n      <td>84</td>\n      <td>PROPOSITION 065- CARRY-OUT BAGS. CHARGES. INIT...</td>\n      <td>467</td>\n      <td>1372902</td>\n      <td>AMERICAN PROGRESSIVE BAG ALLIANCE, A PROJECT O...</td>\n      <td>SUPPORT</td>\n      <td>AMERICAN PROGRESSIVE BAG ALLIANCE, A PROJECT O...</td>\n      <td>1982896</td>\n      <td>2015-04-15</td>\n      <td>FORMOSA PLASTICS CORPORATION U.S.A.</td>\n      <td>NaN</td>\n      <td>LIVINGSTON</td>\n      <td>NJ</td>\n      <td>7039</td>\n      <td>NaN</td>\n      <td>NaN</td>\n      <td>False</td>\n      <td>14000.0</td>\n    </tr>\n    <tr>\n      <th>4</th>\n      <td>ocd-contest/cac74f20-f59f-4857-8750-5f832a3549c9</td>\n      <td>1381520</td>\n      <td>84</td>\n      <td>PROPOSITION 065- CARRY-OUT BAGS. CHARGES. INIT...</td>\n      <td>467</td>\n      <td>1372902</td>\n      <td>AMERICAN PROGRESSIVE BAG ALLIANCE, A PROJECT O...</td>\n      <td>SUPPORT</td>\n      <td>AMERICAN PROGRESSIVE BAG ALLIANCE, A PROJECT O...</td>\n      <td>2012817</td>\n      <td>2015-10-30</td>\n      <td>FORMOSA PLASTICS CORPORATION U.S.A.</td>\n      <td>NaN</td>\n      <td>LIVINGSTON</td>\n      <td>NJ</td>\n      <td>7039</td>\n      <td>NaN</td>\n      <td>NaN</td>\n      <td>False</td>\n      <td>350000.0</td>\n    </tr>\n  </tbody>\n</table>\n</div>"
     },
     "metadata": {},
     "execution_count": 17
    }
   ],
   "source": [
    "support_65.head()"
   ]
  },
  {
   "cell_type": "code",
   "execution_count": 19,
   "metadata": {},
   "outputs": [
    {
     "output_type": "execute_result",
     "data": {
      "text/plain": [
       "SMITH                       29\n",
       "JOHNSON                     27\n",
       "JONES                       26\n",
       "NORRIS                      22\n",
       "MILLER                      21\n",
       "                            ..\n",
       "SAVE THE BAY ACTION FUND     1\n",
       "ROWLAND                      1\n",
       "KILLEY                       1\n",
       "JAIN                         1\n",
       "WEISS                        1\n",
       "Name: contributor_lastname, Length: 1762, dtype: int64"
      ]
     },
     "metadata": {},
     "execution_count": 19
    }
   ],
   "source": [
    "support_67.contributor_lastname.value_counts()"
   ]
  },
  {
   "cell_type": "code",
   "execution_count": 21,
   "metadata": {},
   "outputs": [
    {
     "output_type": "execute_result",
     "data": {
      "text/plain": [
       "ADVANCE POLYBAG, INC.                                         9\n",
       "SUPERBAG CORP.                                                8\n",
       "HILEX POLY CO. LLC                                            5\n",
       "FORMOSA PLASTICS CORPORATION U.S.A.                           4\n",
       "RESTORE CALIFORNIA  - JIM FRAZIER BALLOT MEASURE COMMITTEE    1\n",
       "Name: contributor_lastname, dtype: int64"
      ]
     },
     "metadata": {},
     "execution_count": 21
    }
   ],
   "source": [
    "oppose_67.contributor_lastname.value_counts()"
   ]
  },
  {
   "cell_type": "code",
   "execution_count": 23,
   "metadata": {},
   "outputs": [
    {
     "output_type": "execute_result",
     "data": {
      "text/plain": [
       "ADVANCE POLYBAG, INC.                                         9\n",
       "SUPERBAG CORP.                                                8\n",
       "HILEX POLY CO. LLC                                            5\n",
       "FORMOSA PLASTICS CORPORATION U.S.A.                           4\n",
       "RESTORE CALIFORNIA  - JIM FRAZIER BALLOT MEASURE COMMITTEE    1\n",
       "Name: contributor_lastname, dtype: int64"
      ]
     },
     "metadata": {},
     "execution_count": 23
    }
   ],
   "source": [
    "support_65.contributor_lastname.value_counts()"
   ]
  },
  {
   "cell_type": "code",
   "execution_count": 25,
   "metadata": {},
   "outputs": [
    {
     "output_type": "execute_result",
     "data": {
      "text/plain": [
       "Series([], Name: contributor_lastname, dtype: int64)"
      ]
     },
     "metadata": {},
     "execution_count": 25
    }
   ],
   "source": [
    "oppose_65.contributor_lastname.value_counts()"
   ]
  },
  {
   "cell_type": "code",
   "execution_count": 27,
   "metadata": {},
   "outputs": [
    {
     "output_type": "execute_result",
     "data": {
      "text/plain": [
       "Empty DataFrame\n",
       "Columns: [ocd_prop_id, calaccess_prop_id, ccdc_prop_id, prop_name, ccdc_committee_id, calaccess_committee_id, committee_name_x, committee_position, committee_name_y, calaccess_filing_id, date_received, contributor_lastname, contributor_firstname, contributor_city, contributor_state, contributor_zip, contributor_employer, contributor_occupation, contributor_is_self_employed, amount]\n",
       "Index: []"
      ],
      "text/html": "<div>\n<style scoped>\n    .dataframe tbody tr th:only-of-type {\n        vertical-align: middle;\n    }\n\n    .dataframe tbody tr th {\n        vertical-align: top;\n    }\n\n    .dataframe thead th {\n        text-align: right;\n    }\n</style>\n<table border=\"1\" class=\"dataframe\">\n  <thead>\n    <tr style=\"text-align: right;\">\n      <th></th>\n      <th>ocd_prop_id</th>\n      <th>calaccess_prop_id</th>\n      <th>ccdc_prop_id</th>\n      <th>prop_name</th>\n      <th>ccdc_committee_id</th>\n      <th>calaccess_committee_id</th>\n      <th>committee_name_x</th>\n      <th>committee_position</th>\n      <th>committee_name_y</th>\n      <th>calaccess_filing_id</th>\n      <th>date_received</th>\n      <th>contributor_lastname</th>\n      <th>contributor_firstname</th>\n      <th>contributor_city</th>\n      <th>contributor_state</th>\n      <th>contributor_zip</th>\n      <th>contributor_employer</th>\n      <th>contributor_occupation</th>\n      <th>contributor_is_self_employed</th>\n      <th>amount</th>\n    </tr>\n  </thead>\n  <tbody>\n  </tbody>\n</table>\n</div>"
     },
     "metadata": {},
     "execution_count": 27
    }
   ],
   "source": [
    "oppose_65.head()"
   ]
  },
  {
   "cell_type": "code",
   "execution_count": 29,
   "metadata": {},
   "outputs": [
    {
     "output_type": "stream",
     "name": "stderr",
     "text": [
      "<ipython-input-29-69d7c7686eac>:1: SettingWithCopyWarning: \nA value is trying to be set on a copy of a slice from a DataFrame.\nTry using .loc[row_indexer,col_indexer] = value instead\n\nSee the caveats in the documentation: https://pandas.pydata.org/pandas-docs/stable/user_guide/indexing.html#returning-a-view-versus-a-copy\n  oppose_67['support_65_contributor_lastname'] = support_65['contributor_lastname']\n"
     ]
    }
   ],
   "source": [
    "oppose_67['support_65_contributor_lastname'] = support_65['contributor_lastname']"
   ]
  },
  {
   "cell_type": "code",
   "execution_count": 31,
   "metadata": {},
   "outputs": [
    {
     "output_type": "execute_result",
     "data": {
      "text/plain": [
       "                                          ocd_prop_id  calaccess_prop_id  \\\n",
       "128  ocd-contest/7495cdbe-1aa7-4c26-9a55-aa4130347b95            1372638   \n",
       "129  ocd-contest/7495cdbe-1aa7-4c26-9a55-aa4130347b95            1372638   \n",
       "130  ocd-contest/7495cdbe-1aa7-4c26-9a55-aa4130347b95            1372638   \n",
       "131  ocd-contest/7495cdbe-1aa7-4c26-9a55-aa4130347b95            1372638   \n",
       "132  ocd-contest/7495cdbe-1aa7-4c26-9a55-aa4130347b95            1372638   \n",
       "\n",
       "     ccdc_prop_id                                          prop_name  \\\n",
       "128            86  PROPOSITION 067- REFERENDUM TO OVERTURN BAN ON...   \n",
       "129            86  PROPOSITION 067- REFERENDUM TO OVERTURN BAN ON...   \n",
       "130            86  PROPOSITION 067- REFERENDUM TO OVERTURN BAN ON...   \n",
       "131            86  PROPOSITION 067- REFERENDUM TO OVERTURN BAN ON...   \n",
       "132            86  PROPOSITION 067- REFERENDUM TO OVERTURN BAN ON...   \n",
       "\n",
       "     ccdc_committee_id  calaccess_committee_id  \\\n",
       "128                478                 1372902   \n",
       "129                478                 1372902   \n",
       "130                478                 1372902   \n",
       "131                478                 1372902   \n",
       "132                478                 1372902   \n",
       "\n",
       "                                      committee_name_x committee_position  \\\n",
       "128  AMERICAN PROGRESSIVE BAG ALLIANCE, A PROJECT O...             OPPOSE   \n",
       "129  AMERICAN PROGRESSIVE BAG ALLIANCE, A PROJECT O...             OPPOSE   \n",
       "130  AMERICAN PROGRESSIVE BAG ALLIANCE, A PROJECT O...             OPPOSE   \n",
       "131  AMERICAN PROGRESSIVE BAG ALLIANCE, A PROJECT O...             OPPOSE   \n",
       "132  AMERICAN PROGRESSIVE BAG ALLIANCE, A PROJECT O...             OPPOSE   \n",
       "\n",
       "                                      committee_name_y  calaccess_filing_id  \\\n",
       "128  AMERICAN PROGRESSIVE BAG ALLIANCE, A PROJECT O...              1966084   \n",
       "129  AMERICAN PROGRESSIVE BAG ALLIANCE, A PROJECT O...              1966084   \n",
       "130  AMERICAN PROGRESSIVE BAG ALLIANCE, A PROJECT O...              1966084   \n",
       "131  AMERICAN PROGRESSIVE BAG ALLIANCE, A PROJECT O...              1982896   \n",
       "132  AMERICAN PROGRESSIVE BAG ALLIANCE, A PROJECT O...              2012817   \n",
       "\n",
       "     ...                 contributor_lastname contributor_firstname  \\\n",
       "128  ...                ADVANCE POLYBAG, INC.                   NaN   \n",
       "129  ...                   HILEX POLY CO. LLC                   NaN   \n",
       "130  ...                       SUPERBAG CORP.                   NaN   \n",
       "131  ...  FORMOSA PLASTICS CORPORATION U.S.A.                   NaN   \n",
       "132  ...  FORMOSA PLASTICS CORPORATION U.S.A.                   NaN   \n",
       "\n",
       "    contributor_city contributor_state contributor_zip contributor_employer  \\\n",
       "128       SUGAR LAND                TX           77077                  NaN   \n",
       "129       HARTSVILLE                SC           29550                  NaN   \n",
       "130          HOUSTON                TX           77041                  NaN   \n",
       "131       LIVINGSTON                NJ            7039                  NaN   \n",
       "132       LIVINGSTON                NJ            7039                  NaN   \n",
       "\n",
       "    contributor_occupation contributor_is_self_employed    amount  \\\n",
       "128                    NaN                        False   12000.0   \n",
       "129                    NaN                        False   42000.0   \n",
       "130                    NaN                        False   12000.0   \n",
       "131                    NaN                        False   14000.0   \n",
       "132                    NaN                        False  350000.0   \n",
       "\n",
       "     support_65_contributor_lastname  \n",
       "128                              NaN  \n",
       "129                              NaN  \n",
       "130                              NaN  \n",
       "131                              NaN  \n",
       "132                              NaN  \n",
       "\n",
       "[5 rows x 21 columns]"
      ],
      "text/html": "<div>\n<style scoped>\n    .dataframe tbody tr th:only-of-type {\n        vertical-align: middle;\n    }\n\n    .dataframe tbody tr th {\n        vertical-align: top;\n    }\n\n    .dataframe thead th {\n        text-align: right;\n    }\n</style>\n<table border=\"1\" class=\"dataframe\">\n  <thead>\n    <tr style=\"text-align: right;\">\n      <th></th>\n      <th>ocd_prop_id</th>\n      <th>calaccess_prop_id</th>\n      <th>ccdc_prop_id</th>\n      <th>prop_name</th>\n      <th>ccdc_committee_id</th>\n      <th>calaccess_committee_id</th>\n      <th>committee_name_x</th>\n      <th>committee_position</th>\n      <th>committee_name_y</th>\n      <th>calaccess_filing_id</th>\n      <th>...</th>\n      <th>contributor_lastname</th>\n      <th>contributor_firstname</th>\n      <th>contributor_city</th>\n      <th>contributor_state</th>\n      <th>contributor_zip</th>\n      <th>contributor_employer</th>\n      <th>contributor_occupation</th>\n      <th>contributor_is_self_employed</th>\n      <th>amount</th>\n      <th>support_65_contributor_lastname</th>\n    </tr>\n  </thead>\n  <tbody>\n    <tr>\n      <th>128</th>\n      <td>ocd-contest/7495cdbe-1aa7-4c26-9a55-aa4130347b95</td>\n      <td>1372638</td>\n      <td>86</td>\n      <td>PROPOSITION 067- REFERENDUM TO OVERTURN BAN ON...</td>\n      <td>478</td>\n      <td>1372902</td>\n      <td>AMERICAN PROGRESSIVE BAG ALLIANCE, A PROJECT O...</td>\n      <td>OPPOSE</td>\n      <td>AMERICAN PROGRESSIVE BAG ALLIANCE, A PROJECT O...</td>\n      <td>1966084</td>\n      <td>...</td>\n      <td>ADVANCE POLYBAG, INC.</td>\n      <td>NaN</td>\n      <td>SUGAR LAND</td>\n      <td>TX</td>\n      <td>77077</td>\n      <td>NaN</td>\n      <td>NaN</td>\n      <td>False</td>\n      <td>12000.0</td>\n      <td>NaN</td>\n    </tr>\n    <tr>\n      <th>129</th>\n      <td>ocd-contest/7495cdbe-1aa7-4c26-9a55-aa4130347b95</td>\n      <td>1372638</td>\n      <td>86</td>\n      <td>PROPOSITION 067- REFERENDUM TO OVERTURN BAN ON...</td>\n      <td>478</td>\n      <td>1372902</td>\n      <td>AMERICAN PROGRESSIVE BAG ALLIANCE, A PROJECT O...</td>\n      <td>OPPOSE</td>\n      <td>AMERICAN PROGRESSIVE BAG ALLIANCE, A PROJECT O...</td>\n      <td>1966084</td>\n      <td>...</td>\n      <td>HILEX POLY CO. LLC</td>\n      <td>NaN</td>\n      <td>HARTSVILLE</td>\n      <td>SC</td>\n      <td>29550</td>\n      <td>NaN</td>\n      <td>NaN</td>\n      <td>False</td>\n      <td>42000.0</td>\n      <td>NaN</td>\n    </tr>\n    <tr>\n      <th>130</th>\n      <td>ocd-contest/7495cdbe-1aa7-4c26-9a55-aa4130347b95</td>\n      <td>1372638</td>\n      <td>86</td>\n      <td>PROPOSITION 067- REFERENDUM TO OVERTURN BAN ON...</td>\n      <td>478</td>\n      <td>1372902</td>\n      <td>AMERICAN PROGRESSIVE BAG ALLIANCE, A PROJECT O...</td>\n      <td>OPPOSE</td>\n      <td>AMERICAN PROGRESSIVE BAG ALLIANCE, A PROJECT O...</td>\n      <td>1966084</td>\n      <td>...</td>\n      <td>SUPERBAG CORP.</td>\n      <td>NaN</td>\n      <td>HOUSTON</td>\n      <td>TX</td>\n      <td>77041</td>\n      <td>NaN</td>\n      <td>NaN</td>\n      <td>False</td>\n      <td>12000.0</td>\n      <td>NaN</td>\n    </tr>\n    <tr>\n      <th>131</th>\n      <td>ocd-contest/7495cdbe-1aa7-4c26-9a55-aa4130347b95</td>\n      <td>1372638</td>\n      <td>86</td>\n      <td>PROPOSITION 067- REFERENDUM TO OVERTURN BAN ON...</td>\n      <td>478</td>\n      <td>1372902</td>\n      <td>AMERICAN PROGRESSIVE BAG ALLIANCE, A PROJECT O...</td>\n      <td>OPPOSE</td>\n      <td>AMERICAN PROGRESSIVE BAG ALLIANCE, A PROJECT O...</td>\n      <td>1982896</td>\n      <td>...</td>\n      <td>FORMOSA PLASTICS CORPORATION U.S.A.</td>\n      <td>NaN</td>\n      <td>LIVINGSTON</td>\n      <td>NJ</td>\n      <td>7039</td>\n      <td>NaN</td>\n      <td>NaN</td>\n      <td>False</td>\n      <td>14000.0</td>\n      <td>NaN</td>\n    </tr>\n    <tr>\n      <th>132</th>\n      <td>ocd-contest/7495cdbe-1aa7-4c26-9a55-aa4130347b95</td>\n      <td>1372638</td>\n      <td>86</td>\n      <td>PROPOSITION 067- REFERENDUM TO OVERTURN BAN ON...</td>\n      <td>478</td>\n      <td>1372902</td>\n      <td>AMERICAN PROGRESSIVE BAG ALLIANCE, A PROJECT O...</td>\n      <td>OPPOSE</td>\n      <td>AMERICAN PROGRESSIVE BAG ALLIANCE, A PROJECT O...</td>\n      <td>2012817</td>\n      <td>...</td>\n      <td>FORMOSA PLASTICS CORPORATION U.S.A.</td>\n      <td>NaN</td>\n      <td>LIVINGSTON</td>\n      <td>NJ</td>\n      <td>7039</td>\n      <td>NaN</td>\n      <td>NaN</td>\n      <td>False</td>\n      <td>350000.0</td>\n      <td>NaN</td>\n    </tr>\n  </tbody>\n</table>\n<p>5 rows × 21 columns</p>\n</div>"
     },
     "metadata": {},
     "execution_count": 31
    }
   ],
   "source": [
    "oppose_67.head()"
   ]
  },
  {
   "cell_type": "code",
   "execution_count": 33,
   "metadata": {},
   "outputs": [
    {
     "output_type": "execute_result",
     "data": {
      "text/plain": [
       "array(['SACRAMENTO', 'OAKLAND', 'NEW YORK', 'CITY OF COMMERCE', 'PHOENIX',\n",
       "       'REDDING', 'WEST SACRAMENTO', 'CINCINNATI', 'COMMERCE',\n",
       "       'SANTA BARBARA', 'SILVERADO', 'CARSON', 'SANTA CRUZ',\n",
       "       'LOS ANGELES', 'PALO ALTO', 'TWAIN HARTE', 'MILL VALLEY',\n",
       "       'SAN BERNARDINO', 'FREMONT', 'MALIBU', 'SANTA CLARA',\n",
       "       'EL SOBRANTE', 'BERKELEY', 'VERNON', 'CORONA DEL MAR', 'STOCKTON',\n",
       "       'SAUSALITO', 'DIXON', 'SAN FRANCISCO', 'OROVILLE', 'SANTA ROSA',\n",
       "       'SUNNYVALE', 'CARMEL VALLEY', 'SAN JOSE', 'LA CRESCENTA',\n",
       "       'RICHMOND', 'LEMON GROVE', 'ALAMEDA', 'MONTEREY', 'PASADENA',\n",
       "       'BURLINGAME', 'FRESNO', 'PORTOLA VALLEY', 'MODESTO', 'LONG BEACH',\n",
       "       'TRUCKEE', 'ORLANDO', 'LIVERMORE', 'SANTA ANA',\n",
       "       'LA CRESCENTA-MONTROSE', 'CARMICHAEL', 'CHICAGO',\n",
       "       'SAN LUIS OBISPO', 'PETALUMA', 'LOS ALTOS HILLS', 'OAK GLEN',\n",
       "       'EUREKA', 'EMERYVILLE', 'MENLO PARK', 'RANCHO PALOS VERDES',\n",
       "       'SOUTH PASADENA', 'ITALY', 'WOODSIDE', 'SAN CARLOS', 'SUGAR LAND',\n",
       "       'HARTSVILLE', 'HOUSTON', 'LIVINGSTON', 'APTOS', 'LA JOLLA',\n",
       "       'SUNNYVALE CT', 'WOODLAND', 'CARDIFF BY THE SEA', 'PONOMA',\n",
       "       'REDWOOD CITY', 'PACIFIC GROVE', 'MOUNTAIN VIEW', 'CAPITOLA',\n",
       "       'HALF MOON BAY', 'CUPERTINO', 'ENCINITAS', 'SEBASTOPOL',\n",
       "       'REDONDO BEACH', 'LOS GATOS', 'TAHOE VISTA', 'STUDIO CITY',\n",
       "       'SAN MARCOS', 'VENICE', 'OCEAN BEACH', 'ENCINO', 'SAN PABLO',\n",
       "       'RENO', 'TARZANA', 'WOODLAND HILLS', 'SHERMAN OAKS', 'GROVELAND',\n",
       "       'SAN RAFAEL', 'ALBANY', 'SAN DIEGO', 'SANTA MONICA', 'LAFAYETTE',\n",
       "       'KENTFIELD', 'MONTARA', 'MAMMOTH LAKES', 'SOLANA BEACH',\n",
       "       'KENSINGTON', 'MONTE SERENO', 'ATHERTON', 'BEVERLY HILLS',\n",
       "       'ALTADENA', 'GOLETA', 'FAIRFAX', 'LOS ALTOS', 'PIEDMONT',\n",
       "       'WALNUT CREEK', 'FELTON', 'BELVEDERE', 'SAN ANSELMO', 'VENTURA',\n",
       "       'CARMEL', 'OJAI', 'TOPANGA', 'CARLSBAD', 'SAN LEANDRO',\n",
       "       'CHULA VISTA', 'PACIFIC PLSDS', 'PACIFIC PALISADES', 'MADERA',\n",
       "       'SANRAFAEL', 'EL CERROTP', 'HIDDEN VALLEY LAKE', 'DAVIS',\n",
       "       'CAMPBELL', 'SAN MATEO', 'PLEASONTON', 'LA HONDA', 'FOLSOM',\n",
       "       'BOLINAS', 'MILLBRAE', 'FORTUNA', 'CAMBRIA', 'BOULDER CREEK',\n",
       "       'MISSION VIEJO', 'SAN JUAN CAPISTRANO', 'EL CERRITO',\n",
       "       'GEYSERVILLE', 'FOSTER CITY', 'LA MESA', 'FULLERTON',\n",
       "       'CORTE MADERA', 'HELOTES', 'SONOMA', 'LOS OSOS', 'NEWPORT BEACH',\n",
       "       'CULVER CITY', 'OXNARD', 'DAVENPORT', 'BURBANK', 'COSTA MESA',\n",
       "       'BENICIA', 'PLEASANT HILL', 'CHICO', 'GRANITE BAY', 'SARATOGA',\n",
       "       'RANCHO CUCAMONGA', 'PEBBLE BEACH', 'CARMEL BY THE SEA',\n",
       "       'BEN LOMOND', 'PLACERVILLE', 'NEVADA CITY', 'LOS ALAMITOS',\n",
       "       'KNEELAND', 'OAKDALE', 'PASO ROBLES', 'SPRING VALLEY', 'GLENDALE',\n",
       "       'CAMERON PARK', 'VACAVILLE', 'CUZAHY', 'SAN ANDREAS', 'NOVATO',\n",
       "       'MANHATTAN BEACH', 'BEND', 'SHINGLE SPRINGS', 'LYNWOOD',\n",
       "       'GRASS VALLEY', 'PISMO BEACH', 'UPPER LAKE', 'COLMA',\n",
       "       'MARINA DEL REY', 'HILLSBOROUGH', 'PACIFIC PALISAD',\n",
       "       'PLAYA DEL REY', 'DINUBA', 'PENNGROVE', 'IRVINE', 'DEL MAR',\n",
       "       'LA QUINTA', 'WALNUT GROVE', 'NORTH HOLLYWOOD', 'MARINA DEL RAY',\n",
       "       'PORTLAND', 'EL CAJON', 'NAPA', 'FAIR OAKS', 'AUBURN', 'MANTECA',\n",
       "       'SOUTH LAKE TAHOE', 'VALLEY VILLAGE', 'SAN CLEMENTE', 'STANFORD',\n",
       "       'MARSHALL', 'MEMPHIS', 'CARDIFF', 'PLEASANTON', 'CORONA',\n",
       "       'WOODACRE', 'WEST COVINA', 'MARTINEZ', 'MT VIEWS', 'WALNUT CRREEK',\n",
       "       'HEALDSBURG', 'ROHNERT PARK', 'POINT REYES STATION', 'LOWER LAKE',\n",
       "       'DANVILLE', 'NORTH SAN JUAN', 'LAYTONVILLE', 'NAPERVILLE',\n",
       "       'MILPITAS', 'LAGUNA BEACH', 'LANCASTER', 'SOQUEL',\n",
       "       'EL DORADO HILLS', 'BELLEVUE', 'BELMONT', 'SAN MARINO', 'DOVER',\n",
       "       'KAHULEY', 'BEAVERTON', 'HIGHLAND PARK', 'MCKINLEYVILLE', 'DOWNEY',\n",
       "       'SAN BRUNO', 'SEAL BEACH', 'FAIRFIELD', 'DALY CITY', 'BOULDER',\n",
       "       'PORTA MADERA', 'VALLEJO', 'ELK GROVE', 'GARBERVILLE',\n",
       "       'SCOTTS VALLEY', 'ALBUQUERQUE', 'BAKERSFIELD', 'LOS ALAMOS',\n",
       "       'NORCO', 'CAYUCOS', 'ESCONDIDO', 'CLAREMONT', 'LAWRENCE',\n",
       "       'PARADISE', 'EL SEGUNDO', 'ALISO VIEJO', 'CAZADERO', 'CARPINTERIA',\n",
       "       'CHARLOTTESVILLE', 'FOUNTAIN VALLEY', 'CALABASAS',\n",
       "       'BELVEDERE SAN MATEO', 'COARSEGOLD', 'MOUNT SHASTA',\n",
       "       'PORTOLA VALLY', 'CENTREVILLE', 'FLAGSTAFF', 'PACIFICA', 'POMONA',\n",
       "       'PACOIMA', 'WEST HOLLYWOOD', 'PHILADELPHIA', 'BAYSIDE',\n",
       "       'SANTA YNEZ', 'STEAMBOAT SPRINGS', 'RIALTO', 'BRENTWOOD',\n",
       "       'MENIFEE', 'REDWAY', 'CANOGA PARK', 'BIG SUR', 'HIGHLAND',\n",
       "       'YUBA CITY', 'SUNLAND', 'SONORA', 'RESTON', 'MANCHESTER',\n",
       "       'SAINT HELENA', 'ORINDA'], dtype=object)"
      ]
     },
     "metadata": {},
     "execution_count": 33
    }
   ],
   "source": [
    "merged_67.contributor_city.unique()"
   ]
  },
  {
   "cell_type": "code",
   "execution_count": 35,
   "metadata": {},
   "outputs": [
    {
     "output_type": "execute_result",
     "data": {
      "text/plain": [
       "94025    116\n",
       "94303     85\n",
       "93105     60\n",
       "95062     45\n",
       "95060     33\n",
       "        ... \n",
       "94574      1\n",
       "94119      1\n",
       "92625      1\n",
       "90803      1\n",
       "92399      1\n",
       "Name: contributor_zip, Length: 1592, dtype: int64"
      ]
     },
     "metadata": {},
     "execution_count": 35
    }
   ],
   "source": [
    "support_67.contributor_zip.value_counts()"
   ]
  },
  {
   "cell_type": "code",
   "execution_count": 37,
   "metadata": {},
   "outputs": [
    {
     "output_type": "execute_result",
     "data": {
      "text/plain": [
       "array(['CA', 'NY', 'AZ', 'OH', 'FL', 'IL', nan, 'NV', 'TX', 'OR', 'TN',\n",
       "       'WA', 'HI', 'NJ', 'CO', 'NM', 'KS', 'VA', 'PA'], dtype=object)"
      ]
     },
     "metadata": {},
     "execution_count": 37
    }
   ],
   "source": [
    "support_67.contributor_state.unique()"
   ]
  },
  {
   "cell_type": "code",
   "execution_count": 39,
   "metadata": {},
   "outputs": [],
   "source": [
    "geo_data = pd.read_csv(\"with-latlongs.csv\")"
   ]
  },
  {
   "cell_type": "code",
   "execution_count": 40,
   "metadata": {},
   "outputs": [
    {
     "output_type": "execute_result",
     "data": {
      "text/plain": [
       "          zip  amount                                               prop  \\\n",
       "0  02445-7717   185.0  PROPOSITION 062- DEATH PENALTY. INITIATIVE STA...   \n",
       "1  06002-1987   295.0  PROPOSITION 062- DEATH PENALTY. INITIATIVE STA...   \n",
       "2  06807-9984   590.0  PROPOSITION 062- DEATH PENALTY. INITIATIVE STA...   \n",
       "3  06901-5003   277.5  PROPOSITION 062- DEATH PENALTY. INITIATIVE STA...   \n",
       "4  07960-6475  5000.0  PROPOSITION 058 - SB 1174 (CHAPTER 753, STATUT...   \n",
       "\n",
       "   number  founder                          job   stance    size short_zips  \\\n",
       "0      62    False                      MANAGER  SUPPORT   185.0      02445   \n",
       "1      62    False                      RETIRED  SUPPORT   295.0      06002   \n",
       "2      62    False                    ASSEMBLER  SUPPORT   590.0      06807   \n",
       "3      62    False  DIRECTOR GLOBAL PROCUREMENT  SUPPORT   277.5      06901   \n",
       "4      58    False                          NaN  SUPPORT  5000.0      07960   \n",
       "\n",
       "        lats        lons  \n",
       "0  37.763947 -121.913176  \n",
       "1  40.721786  -74.009447  \n",
       "2  34.508431 -119.731021  \n",
       "3  38.235501 -122.642021  \n",
       "4  33.716876 -117.960047  "
      ],
      "text/html": "<div>\n<style scoped>\n    .dataframe tbody tr th:only-of-type {\n        vertical-align: middle;\n    }\n\n    .dataframe tbody tr th {\n        vertical-align: top;\n    }\n\n    .dataframe thead th {\n        text-align: right;\n    }\n</style>\n<table border=\"1\" class=\"dataframe\">\n  <thead>\n    <tr style=\"text-align: right;\">\n      <th></th>\n      <th>zip</th>\n      <th>amount</th>\n      <th>prop</th>\n      <th>number</th>\n      <th>founder</th>\n      <th>job</th>\n      <th>stance</th>\n      <th>size</th>\n      <th>short_zips</th>\n      <th>lats</th>\n      <th>lons</th>\n    </tr>\n  </thead>\n  <tbody>\n    <tr>\n      <th>0</th>\n      <td>02445-7717</td>\n      <td>185.0</td>\n      <td>PROPOSITION 062- DEATH PENALTY. INITIATIVE STA...</td>\n      <td>62</td>\n      <td>False</td>\n      <td>MANAGER</td>\n      <td>SUPPORT</td>\n      <td>185.0</td>\n      <td>02445</td>\n      <td>37.763947</td>\n      <td>-121.913176</td>\n    </tr>\n    <tr>\n      <th>1</th>\n      <td>06002-1987</td>\n      <td>295.0</td>\n      <td>PROPOSITION 062- DEATH PENALTY. INITIATIVE STA...</td>\n      <td>62</td>\n      <td>False</td>\n      <td>RETIRED</td>\n      <td>SUPPORT</td>\n      <td>295.0</td>\n      <td>06002</td>\n      <td>40.721786</td>\n      <td>-74.009447</td>\n    </tr>\n    <tr>\n      <th>2</th>\n      <td>06807-9984</td>\n      <td>590.0</td>\n      <td>PROPOSITION 062- DEATH PENALTY. INITIATIVE STA...</td>\n      <td>62</td>\n      <td>False</td>\n      <td>ASSEMBLER</td>\n      <td>SUPPORT</td>\n      <td>590.0</td>\n      <td>06807</td>\n      <td>34.508431</td>\n      <td>-119.731021</td>\n    </tr>\n    <tr>\n      <th>3</th>\n      <td>06901-5003</td>\n      <td>277.5</td>\n      <td>PROPOSITION 062- DEATH PENALTY. INITIATIVE STA...</td>\n      <td>62</td>\n      <td>False</td>\n      <td>DIRECTOR GLOBAL PROCUREMENT</td>\n      <td>SUPPORT</td>\n      <td>277.5</td>\n      <td>06901</td>\n      <td>38.235501</td>\n      <td>-122.642021</td>\n    </tr>\n    <tr>\n      <th>4</th>\n      <td>07960-6475</td>\n      <td>5000.0</td>\n      <td>PROPOSITION 058 - SB 1174 (CHAPTER 753, STATUT...</td>\n      <td>58</td>\n      <td>False</td>\n      <td>NaN</td>\n      <td>SUPPORT</td>\n      <td>5000.0</td>\n      <td>07960</td>\n      <td>33.716876</td>\n      <td>-117.960047</td>\n    </tr>\n  </tbody>\n</table>\n</div>"
     },
     "metadata": {},
     "execution_count": 40
    }
   ],
   "source": [
    "geo_data.head()"
   ]
  },
  {
   "cell_type": "code",
   "execution_count": 43,
   "metadata": {},
   "outputs": [
    {
     "output_type": "execute_result",
     "data": {
      "text/plain": [
       "AMERICAN PROGRESSIVE BAG ALLIANCE, A PROJECT OF THE SOCIETY OF THE PLASTICS INDUSTRY (NON-PROFIT 501 (C) (6)), YES ON 65 AND NO ON 67    27\n",
       "Name: committee_name_x, dtype: int64"
      ]
     },
     "metadata": {},
     "execution_count": 43
    }
   ],
   "source": [
    "support_65.committee_name_x.value_counts()"
   ]
  },
  {
   "cell_type": "code",
   "execution_count": 44,
   "metadata": {},
   "outputs": [
    {
     "output_type": "stream",
     "name": "stdout",
     "text": [
      "<class 'pandas.core.frame.DataFrame'>\nInt64Index: 6252 entries, 0 to 6278\nData columns (total 20 columns):\n #   Column                        Non-Null Count  Dtype  \n---  ------                        --------------  -----  \n 0   ocd_prop_id                   6252 non-null   object \n 1   calaccess_prop_id             6252 non-null   int64  \n 2   ccdc_prop_id                  6252 non-null   int64  \n 3   prop_name                     6252 non-null   object \n 4   ccdc_committee_id             6252 non-null   int64  \n 5   calaccess_committee_id        6252 non-null   int64  \n 6   committee_name_x              6252 non-null   object \n 7   committee_position            6252 non-null   object \n 8   committee_name_y              6252 non-null   object \n 9   calaccess_filing_id           6252 non-null   int64  \n 10  date_received                 6252 non-null   object \n 11  contributor_lastname          6252 non-null   object \n 12  contributor_firstname         6211 non-null   object \n 13  contributor_city              6252 non-null   object \n 14  contributor_state             6251 non-null   object \n 15  contributor_zip               6251 non-null   object \n 16  contributor_employer          6092 non-null   object \n 17  contributor_occupation        6092 non-null   object \n 18  contributor_is_self_employed  6252 non-null   bool   \n 19  amount                        6252 non-null   float64\ndtypes: bool(1), float64(1), int64(5), object(13)\nmemory usage: 983.0+ KB\n"
     ]
    }
   ],
   "source": [
    "support_67.info()"
   ]
  },
  {
   "cell_type": "code",
   "execution_count": 53,
   "metadata": {},
   "outputs": [
    {
     "output_type": "stream",
     "name": "stdout",
     "text": [
      "1789160.75\n"
     ]
    }
   ],
   "source": [
    "amt_support_67 = support_67.amount.sum()\n",
    "print(amt_support_67)"
   ]
  },
  {
   "cell_type": "code",
   "execution_count": 54,
   "metadata": {},
   "outputs": [
    {
     "output_type": "stream",
     "name": "stdout",
     "text": [
      "2681413.25\n"
     ]
    }
   ],
   "source": [
    "amt_support_65 = support_65.amount.sum()\n",
    "print(amt_support_65)"
   ]
  },
  {
   "cell_type": "code",
   "execution_count": 52,
   "metadata": {},
   "outputs": [
    {
     "output_type": "execute_result",
     "data": {
      "text/plain": [
       "0.6672454348467175"
      ]
     },
     "metadata": {},
     "execution_count": 52
    }
   ],
   "source": [
    "amt_support_67 / amt_support_65"
   ]
  },
  {
   "cell_type": "code",
   "execution_count": 56,
   "metadata": {},
   "outputs": [
    {
     "output_type": "execute_result",
     "data": {
      "text/plain": [
       "286.1741442738324"
      ]
     },
     "metadata": {},
     "execution_count": 56
    }
   ],
   "source": [
    "amt_support_67 / 6252"
   ]
  },
  {
   "cell_type": "code",
   "execution_count": 58,
   "metadata": {},
   "outputs": [
    {
     "output_type": "stream",
     "name": "stdout",
     "text": [
      "<class 'pandas.core.frame.DataFrame'>\nInt64Index: 27 entries, 0 to 26\nData columns (total 20 columns):\n #   Column                        Non-Null Count  Dtype  \n---  ------                        --------------  -----  \n 0   ocd_prop_id                   27 non-null     object \n 1   calaccess_prop_id             27 non-null     int64  \n 2   ccdc_prop_id                  27 non-null     int64  \n 3   prop_name                     27 non-null     object \n 4   ccdc_committee_id             27 non-null     int64  \n 5   calaccess_committee_id        27 non-null     int64  \n 6   committee_name_x              27 non-null     object \n 7   committee_position            27 non-null     object \n 8   committee_name_y              27 non-null     object \n 9   calaccess_filing_id           27 non-null     int64  \n 10  date_received                 27 non-null     object \n 11  contributor_lastname          27 non-null     object \n 12  contributor_firstname         0 non-null      object \n 13  contributor_city              27 non-null     object \n 14  contributor_state             27 non-null     object \n 15  contributor_zip               27 non-null     object \n 16  contributor_employer          0 non-null      object \n 17  contributor_occupation        0 non-null      object \n 18  contributor_is_self_employed  27 non-null     bool   \n 19  amount                        27 non-null     float64\ndtypes: bool(1), float64(1), int64(5), object(13)\nmemory usage: 5.5+ KB\n99311.60185185185\n"
     ]
    }
   ],
   "source": [
    "support_65.info()"
   ]
  },
  {
   "cell_type": "code",
   "execution_count": 59,
   "metadata": {},
   "outputs": [
    {
     "output_type": "stream",
     "name": "stdout",
     "text": [
      "99311.60185185185\n"
     ]
    }
   ],
   "source": [
    "print(amt_support_65 / 27)"
   ]
  },
  {
   "cell_type": "code",
   "execution_count": 60,
   "metadata": {},
   "outputs": [
    {
     "output_type": "execute_result",
     "data": {
      "text/plain": [
       "SMITH                       29\n",
       "JOHNSON                     27\n",
       "JONES                       26\n",
       "NORRIS                      22\n",
       "MILLER                      21\n",
       "                            ..\n",
       "SAVE THE BAY ACTION FUND     1\n",
       "ROWLAND                      1\n",
       "KILLEY                       1\n",
       "JAIN                         1\n",
       "WEISS                        1\n",
       "Name: contributor_lastname, Length: 1762, dtype: int64"
      ]
     },
     "metadata": {},
     "execution_count": 60
    }
   ],
   "source": [
    "support_67.contributor_lastname.value_counts()"
   ]
  }
 ]
}